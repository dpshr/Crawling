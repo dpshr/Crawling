{
 "cells": [
  {
   "cell_type": "code",
   "execution_count": 1,
   "id": "1156801a-fa23-4382-b5c1-75032bc4f17d",
   "metadata": {},
   "outputs": [],
   "source": [
    "from selenium import webdriver as wb # 웹브라우저 통제\n",
    "from selenium.webdriver.common.keys import Keys # 입력용\n",
    "from selenium.webdriver.common.by import By # 구분자\n",
    "from selenium.webdriver.support.ui import Select\n",
    "import pandas as pd\n",
    "import time"
   ]
  },
  {
   "cell_type": "code",
   "execution_count": 2,
   "id": "0e1383d8-2cdb-4fbc-ac15-9f487217dede",
   "metadata": {},
   "outputs": [],
   "source": [
    "driver = wb.Chrome()\n",
    "\n",
    "driver.get('https://www.agriis.co.kr/shop/search.php?page=1&language=')\n",
    "time.sleep(1)\n",
    "\n",
    "m_name_list = []\n",
    "m_price_list = []\n",
    "m_cate_list = []\n",
    "select_element = driver.find_element(By.NAME, 'name')\n",
    "select = Select(select_element)\n",
    "select.select_by_value(\"1\")\n",
    "\n",
    "select_element1 = driver.find_element(By.NAME, 'procat')\n",
    "select = Select(select_element1)\n",
    "select.select_by_value(\"8\")\n",
    "\n",
    "serch=driver.find_element(By.XPATH,\"/html/body/table/tbody/tr[2]/td/table[2]/tbody/tr[2]/td/table/tbody/tr[2]/td/table/tbody/tr/td/table[2]/tbody/tr/td/table/tbody/tr[8]/td[2]/input[3]\")\n",
    "serch.click()\n",
    "for i in range(0,10):\n",
    "    click = driver.find_element(By.CSS_SELECTOR,f'a>#subjectG2_{i}')\n",
    "    click.click()\n",
    "    time.sleep(1)\n",
    "    m_name =  driver.find_element(By.XPATH,'//*[@id=\"print_base\"]/table/tbody/tr[2]/td/table[2]/tbody/tr[2]/td/table[2]/tbody/tr/td/table/tbody/tr/td/table[1]/tbody/tr[5]/td/table/tbody/tr[1]/td[3]/table/tbody/tr[3]/td[2]')\n",
    "    m_name_list.append(m_name.text)\n",
    "    m_price = driver.find_element(By.XPATH,'//*[@id=\"priceManDe\"]/span')\n",
    "    m_price_list.append(m_price.text)\n",
    "    m_cate = driver.find_element(By.ID,'subjectG')\n",
    "    m_cate_list.append(m_cate.text)\n",
    "    driver.back()\n",
    "    time.sleep(1)    "
   ]
  },
  {
   "cell_type": "code",
   "execution_count": 3,
   "id": "4f478a58-00cc-4b5b-9247-aba6d2b453bf",
   "metadata": {},
   "outputs": [
    {
     "name": "stdout",
     "output_type": "stream",
     "text": [
      "['LUXEN74', 'RX700', 'RX700', 'L7020', 'D701', 'RX700', 'T720', 'MX70', 'RX700', 'LUXEN700']\n"
     ]
    }
   ],
   "source": [
    "print(m_name_list)"
   ]
  },
  {
   "cell_type": "code",
   "execution_count": 5,
   "id": "47810496-88b6-4308-80c7-4e9c4a1391ec",
   "metadata": {},
   "outputs": [
    {
     "name": "stdout",
     "output_type": "stream",
     "text": [
      ">> modify: 2,100\n",
      "만원\n",
      ">> modify: 2,200\n",
      "만원\n",
      ">> modify: 1,890\n",
      "만원\n",
      ">> modify: 1,350\n",
      "만원\n",
      ">> modify: 2,200\n",
      "만원\n"
     ]
    }
   ],
   "source": [
    "search = \"\\n\"\n",
    "for i, word in enumerate(m_price_list):\n",
    "    if search in word: \n",
    "        print('>> modify: ' + word)\n",
    "        m_price_list[i] = word.strip(search)"
   ]
  },
  {
   "cell_type": "code",
   "execution_count": 6,
   "id": "0cb03df5-4870-4187-965f-3abd330c6c08",
   "metadata": {},
   "outputs": [
    {
     "name": "stdout",
     "output_type": "stream",
     "text": [
      "['문의', '2,100\\n만원', '2,200\\n만원', '문의', '1,890\\n만원', '문의', '1,350\\n만원', '2,200\\n만원', '문의', '문의']\n"
     ]
    }
   ],
   "source": [
    "print(m_price_list)"
   ]
  },
  {
   "cell_type": "code",
   "execution_count": 5,
   "id": "ad7a6a9c-3a1e-4d56-8a66-06dad0b0f6f4",
   "metadata": {},
   "outputs": [
    {
     "name": "stdout",
     "output_type": "stream",
     "text": [
      "['트랙터', '트랙터', '트랙터', '트랙터', '트랙터', '트랙터', '트랙터', '트랙터', '트랙터', '트랙터']\n"
     ]
    }
   ],
   "source": [
    "print(m_cate_list)"
   ]
  },
  {
   "cell_type": "code",
   "execution_count": 6,
   "id": "2f0a414a-cb5c-4fb6-b1f7-39fd9688e1de",
   "metadata": {},
   "outputs": [
    {
     "data": {
      "text/html": [
       "<div>\n",
       "<style scoped>\n",
       "    .dataframe tbody tr th:only-of-type {\n",
       "        vertical-align: middle;\n",
       "    }\n",
       "\n",
       "    .dataframe tbody tr th {\n",
       "        vertical-align: top;\n",
       "    }\n",
       "\n",
       "    .dataframe thead th {\n",
       "        text-align: right;\n",
       "    }\n",
       "</style>\n",
       "<table border=\"1\" class=\"dataframe\">\n",
       "  <thead>\n",
       "    <tr style=\"text-align: right;\">\n",
       "      <th></th>\n",
       "      <th>기계이름</th>\n",
       "      <th>가격(원가)</th>\n",
       "      <th>카테고리</th>\n",
       "    </tr>\n",
       "  </thead>\n",
       "  <tbody>\n",
       "    <tr>\n",
       "      <th>1</th>\n",
       "      <td>LUXEN74</td>\n",
       "      <td>문의</td>\n",
       "      <td>트랙터</td>\n",
       "    </tr>\n",
       "    <tr>\n",
       "      <th>2</th>\n",
       "      <td>RX700</td>\n",
       "      <td>2,100\\n만원</td>\n",
       "      <td>트랙터</td>\n",
       "    </tr>\n",
       "    <tr>\n",
       "      <th>3</th>\n",
       "      <td>RX700</td>\n",
       "      <td>2,200\\n만원</td>\n",
       "      <td>트랙터</td>\n",
       "    </tr>\n",
       "    <tr>\n",
       "      <th>4</th>\n",
       "      <td>L7020</td>\n",
       "      <td>문의</td>\n",
       "      <td>트랙터</td>\n",
       "    </tr>\n",
       "    <tr>\n",
       "      <th>5</th>\n",
       "      <td>D701</td>\n",
       "      <td>1,890\\n만원</td>\n",
       "      <td>트랙터</td>\n",
       "    </tr>\n",
       "    <tr>\n",
       "      <th>6</th>\n",
       "      <td>RX700</td>\n",
       "      <td>문의</td>\n",
       "      <td>트랙터</td>\n",
       "    </tr>\n",
       "    <tr>\n",
       "      <th>7</th>\n",
       "      <td>T720</td>\n",
       "      <td>1,350\\n만원</td>\n",
       "      <td>트랙터</td>\n",
       "    </tr>\n",
       "    <tr>\n",
       "      <th>8</th>\n",
       "      <td>MX70</td>\n",
       "      <td>2,200\\n만원</td>\n",
       "      <td>트랙터</td>\n",
       "    </tr>\n",
       "    <tr>\n",
       "      <th>9</th>\n",
       "      <td>RX700</td>\n",
       "      <td>문의</td>\n",
       "      <td>트랙터</td>\n",
       "    </tr>\n",
       "    <tr>\n",
       "      <th>10</th>\n",
       "      <td>LUXEN700</td>\n",
       "      <td>문의</td>\n",
       "      <td>트랙터</td>\n",
       "    </tr>\n",
       "  </tbody>\n",
       "</table>\n",
       "</div>"
      ],
      "text/plain": [
       "        기계이름     가격(원가) 카테고리\n",
       "1    LUXEN74         문의  트랙터\n",
       "2      RX700  2,100\\n만원  트랙터\n",
       "3      RX700  2,200\\n만원  트랙터\n",
       "4      L7020         문의  트랙터\n",
       "5       D701  1,890\\n만원  트랙터\n",
       "6      RX700         문의  트랙터\n",
       "7       T720  1,350\\n만원  트랙터\n",
       "8       MX70  2,200\\n만원  트랙터\n",
       "9      RX700         문의  트랙터\n",
       "10  LUXEN700         문의  트랙터"
      ]
     },
     "execution_count": 6,
     "metadata": {},
     "output_type": "execute_result"
    }
   ],
   "source": [
    "data = {'기계이름':m_name_list , '가격(원가)': m_price_list , '카테고리':m_cate_list}\n",
    "list_num = [1,2,3,4,5,6,7,8,9,10]\n",
    "df=pd.DataFrame(data,index=list_num)\n",
    "df"
   ]
  },
  {
   "cell_type": "code",
   "execution_count": 7,
   "id": "314d0d65-432b-4615-9b91-501383db239e",
   "metadata": {},
   "outputs": [],
   "source": [
    "df.to_csv('농기계 가격정보 샘플.csv', encoding = 'euc-kr')"
   ]
  }
 ],
 "metadata": {
  "kernelspec": {
   "display_name": "Python 3 (ipykernel)",
   "language": "python",
   "name": "python3"
  },
  "language_info": {
   "codemirror_mode": {
    "name": "ipython",
    "version": 3
   },
   "file_extension": ".py",
   "mimetype": "text/x-python",
   "name": "python",
   "nbconvert_exporter": "python",
   "pygments_lexer": "ipython3",
   "version": "3.11.7"
  }
 },
 "nbformat": 4,
 "nbformat_minor": 5
}
