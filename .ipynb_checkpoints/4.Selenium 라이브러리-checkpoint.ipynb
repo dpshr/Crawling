{
 "cells": [
  {
   "cell_type": "code",
   "execution_count": 1,
   "id": "21778f2b-2fc3-42c0-a0b2-db1909961960",
   "metadata": {},
   "outputs": [],
   "source": [
    "# beautifulSoup : 페이지 정보 내에서 원하는 정보 가져오기\n",
    "# Selenium: 웹 페이지를 제어, 코드를 사용해서 브라우저를 제어\n",
    "# 사람이 진행하는 단계와 동일한 코드를 작성"
   ]
  },
  {
   "cell_type": "code",
   "execution_count": 2,
   "id": "220ac71b-d7a2-4539-91af-60fa71b192d8",
   "metadata": {},
   "outputs": [
    {
     "name": "stdout",
     "output_type": "stream",
     "text": [
      "Collecting selenium\n",
      "  Downloading selenium-4.20.0-py3-none-any.whl.metadata (6.9 kB)\n",
      "Requirement already satisfied: urllib3<3,>=1.26 in c:\\users\\smhrd1\\anaconda3\\lib\\site-packages (from urllib3[socks]<3,>=1.26->selenium) (2.0.7)\n",
      "Collecting trio~=0.17 (from selenium)\n",
      "  Downloading trio-0.25.0-py3-none-any.whl.metadata (8.7 kB)\n",
      "Collecting trio-websocket~=0.9 (from selenium)\n",
      "  Downloading trio_websocket-0.11.1-py3-none-any.whl.metadata (4.7 kB)\n",
      "Requirement already satisfied: certifi>=2021.10.8 in c:\\users\\smhrd1\\anaconda3\\lib\\site-packages (from selenium) (2024.2.2)\n",
      "Requirement already satisfied: typing_extensions>=4.9.0 in c:\\users\\smhrd1\\anaconda3\\lib\\site-packages (from selenium) (4.9.0)\n",
      "Collecting attrs>=23.2.0 (from trio~=0.17->selenium)\n",
      "  Downloading attrs-23.2.0-py3-none-any.whl.metadata (9.5 kB)\n",
      "Requirement already satisfied: sortedcontainers in c:\\users\\smhrd1\\anaconda3\\lib\\site-packages (from trio~=0.17->selenium) (2.4.0)\n",
      "Requirement already satisfied: idna in c:\\users\\smhrd1\\anaconda3\\lib\\site-packages (from trio~=0.17->selenium) (3.4)\n",
      "Collecting outcome (from trio~=0.17->selenium)\n",
      "  Downloading outcome-1.3.0.post0-py2.py3-none-any.whl.metadata (2.6 kB)\n",
      "Requirement already satisfied: sniffio>=1.3.0 in c:\\users\\smhrd1\\anaconda3\\lib\\site-packages (from trio~=0.17->selenium) (1.3.0)\n",
      "Requirement already satisfied: cffi>=1.14 in c:\\users\\smhrd1\\anaconda3\\lib\\site-packages (from trio~=0.17->selenium) (1.16.0)\n",
      "Collecting wsproto>=0.14 (from trio-websocket~=0.9->selenium)\n",
      "  Downloading wsproto-1.2.0-py3-none-any.whl.metadata (5.6 kB)\n",
      "Requirement already satisfied: pysocks!=1.5.7,<2.0,>=1.5.6 in c:\\users\\smhrd1\\anaconda3\\lib\\site-packages (from urllib3[socks]<3,>=1.26->selenium) (1.7.1)\n",
      "Requirement already satisfied: pycparser in c:\\users\\smhrd1\\anaconda3\\lib\\site-packages (from cffi>=1.14->trio~=0.17->selenium) (2.21)\n",
      "Collecting h11<1,>=0.9.0 (from wsproto>=0.14->trio-websocket~=0.9->selenium)\n",
      "  Downloading h11-0.14.0-py3-none-any.whl.metadata (8.2 kB)\n",
      "Downloading selenium-4.20.0-py3-none-any.whl (9.5 MB)\n",
      "   ---------------------------------------- 0.0/9.5 MB ? eta -:--:--\n",
      "    --------------------------------------- 0.2/9.5 MB 5.0 MB/s eta 0:00:02\n",
      "   --- ------------------------------------ 0.9/9.5 MB 9.9 MB/s eta 0:00:01\n",
      "   ---------- ----------------------------- 2.4/9.5 MB 19.1 MB/s eta 0:00:01\n",
      "   ------------------- -------------------- 4.5/9.5 MB 26.5 MB/s eta 0:00:01\n",
      "   --------------------------- ------------ 6.5/9.5 MB 29.9 MB/s eta 0:00:01\n",
      "   ------------------------------------ --- 8.6/9.5 MB 32.5 MB/s eta 0:00:01\n",
      "   ---------------------------------------- 9.5/9.5 MB 30.5 MB/s eta 0:00:00\n",
      "Downloading trio-0.25.0-py3-none-any.whl (467 kB)\n",
      "   ---------------------------------------- 0.0/467.2 kB ? eta -:--:--\n",
      "   --------------------------------------- 467.2/467.2 kB 28.6 MB/s eta 0:00:00\n",
      "Downloading trio_websocket-0.11.1-py3-none-any.whl (17 kB)\n",
      "Downloading attrs-23.2.0-py3-none-any.whl (60 kB)\n",
      "   ---------------------------------------- 0.0/60.8 kB ? eta -:--:--\n",
      "   ---------------------------------------- 60.8/60.8 kB ? eta 0:00:00\n",
      "Downloading wsproto-1.2.0-py3-none-any.whl (24 kB)\n",
      "Downloading outcome-1.3.0.post0-py2.py3-none-any.whl (10 kB)\n",
      "Downloading h11-0.14.0-py3-none-any.whl (58 kB)\n",
      "   ---------------------------------------- 0.0/58.3 kB ? eta -:--:--\n",
      "   ---------------------------------------- 58.3/58.3 kB ? eta 0:00:00\n",
      "Installing collected packages: h11, attrs, wsproto, outcome, trio, trio-websocket, selenium\n",
      "  Attempting uninstall: attrs\n",
      "    Found existing installation: attrs 23.1.0\n",
      "    Uninstalling attrs-23.1.0:\n",
      "      Successfully uninstalled attrs-23.1.0\n",
      "Successfully installed attrs-23.2.0 h11-0.14.0 outcome-1.3.0.post0 selenium-4.20.0 trio-0.25.0 trio-websocket-0.11.1 wsproto-1.2.0\n"
     ]
    }
   ],
   "source": [
    "!pip install selenium"
   ]
  },
  {
   "cell_type": "code",
   "execution_count": 4,
   "id": "56faedab-fdac-4643-bbbf-fa358aa80246",
   "metadata": {},
   "outputs": [],
   "source": [
    "# 웹 브라우저를 통제하는 용도\n",
    "from selenium import webdriver as wb\n",
    "# 키보드의 역할 \n",
    "from selenium.webdriver.common.keys import Keys\n",
    "# 찾을 방법 지정하기\n",
    "from selenium.webdriver.common.by import By "
   ]
  },
  {
   "cell_type": "code",
   "execution_count": 25,
   "id": "a2ee29f4-743d-493d-a435-371a5dd48a9f",
   "metadata": {},
   "outputs": [],
   "source": [
    "# 브라우저 열기 \n",
    "driver = wb.Chrome()\n",
    "# driver = 크롬창"
   ]
  },
  {
   "cell_type": "code",
   "execution_count": 26,
   "id": "e6ab51ef-ac86-44f8-823f-747ffede7f28",
   "metadata": {},
   "outputs": [],
   "source": [
    "# 네이버 페이지 열기\n",
    "driver.get('https://www.naver.com')"
   ]
  },
  {
   "cell_type": "code",
   "execution_count": 9,
   "id": "7956c12e-e89c-4077-9ea0-cebcff0200c6",
   "metadata": {},
   "outputs": [],
   "source": [
    "# 검색창을 찾고 검색창에 내일날씨 입력하고 검색버튼 누르기\n",
    "# 1. 검색창 찾기: 태그와 id, class를 사용해서 찾기\n",
    "# find_element() : 원하는 요소 하나 찾기 \n",
    "#                  원하는 요소중 첫번째 값 가져오기\n",
    "# find_elements(): 원하는 모든 요소 찾기\n",
    "# 검색할 방법, 태그정보\n",
    "search=driver.find_element(By.ID,'query')"
   ]
  },
  {
   "cell_type": "code",
   "execution_count": 10,
   "id": "69523337-9caf-45e7-a805-74cf0856557c",
   "metadata": {},
   "outputs": [],
   "source": [
    "# 2. 검색할 내용 입력하기\n",
    "search.send_keys('내일 목포 날씨')"
   ]
  },
  {
   "cell_type": "code",
   "execution_count": 12,
   "id": "d68d1c16-41be-4c7d-ba67-776b6172a0fc",
   "metadata": {},
   "outputs": [],
   "source": [
    "# 3. 검색창에서 엔터눌러서 검색하기\n",
    "search.send_keys(Keys.ENTER)"
   ]
  },
  {
   "cell_type": "code",
   "execution_count": 13,
   "id": "dc9ebf68-e346-43a3-a3eb-3cdf2a8c0f3d",
   "metadata": {},
   "outputs": [],
   "source": [
    "# 4. 페이지 뒤로가기(브라우저에 포함)\n",
    "driver.back()"
   ]
  },
  {
   "cell_type": "code",
   "execution_count": 16,
   "id": "4e9c3e75-a781-4a6d-8d31-1a0ca7fb54ad",
   "metadata": {},
   "outputs": [],
   "source": [
    "# 가끔 한번에 실행이 안될때가 있음\n",
    "driver = wb.Chrome() #1 \n",
    "driver.get('https://www.naver.com') #2\n",
    "search=driver.find_element(By.ID,'query') #3\n",
    "search.send_keys('내일 목포 날씨') #4\n",
    "search.send_keys(Keys.ENTER) #5\n",
    "driver.back() #6"
   ]
  },
  {
   "cell_type": "code",
   "execution_count": 19,
   "id": "d152803a-ecfa-4d99-9096-618ab43b623b",
   "metadata": {},
   "outputs": [],
   "source": [
    "driver = wb.Chrome() #1 \n",
    "driver.get('https://www.naver.com') #2\n",
    "search=driver.find_element(By.ID,'query') #3\n",
    "search.send_keys('내일 목포 날씨') #4"
   ]
  },
  {
   "cell_type": "code",
   "execution_count": 20,
   "id": "9d947f4d-7f1c-4e76-b060-c5b7e365a1ef",
   "metadata": {},
   "outputs": [],
   "source": [
    "# 돋보기 버튼 찾기\n",
    "btn = driver.find_element(By.ID, 'search-btn')\n",
    "# 돋보기 버튼 클릭 \n",
    "btn.click()"
   ]
  },
  {
   "cell_type": "code",
   "execution_count": 21,
   "id": "aa503ed7-db71-440c-97c2-e8e2c499601c",
   "metadata": {},
   "outputs": [],
   "source": [
    "# 브라우저 닫기\n",
    "driver.close()"
   ]
  },
  {
   "cell_type": "code",
   "execution_count": 34,
   "id": "06e8c0c1-6cd7-4eb7-8d72-28bdfbed5119",
   "metadata": {},
   "outputs": [],
   "source": [
    "import time"
   ]
  },
  {
   "cell_type": "code",
   "execution_count": 39,
   "id": "32f31d9f-9e8a-4717-8d03-d739f749baba",
   "metadata": {},
   "outputs": [],
   "source": [
    "# 네이버 페이지 열고\n",
    "driver = wb.Chrome()\n",
    "driver.get('https://www.naver.com')\n",
    "# 뉴스 클릭\n",
    "news = driver.find_element(By.CLASS_NAME,'service_icon.type_news')\n",
    "news.click()\n",
    "time.sleep(2)\n",
    "# 뒤로가기\n",
    "driver.back()\n",
    "# 브라우저 닫기\n",
    "#driver.close()\n",
    "#모든 창 닫기 \n",
    "driver.quit()"
   ]
  }
 ],
 "metadata": {
  "kernelspec": {
   "display_name": "Python 3 (ipykernel)",
   "language": "python",
   "name": "python3"
  },
  "language_info": {
   "codemirror_mode": {
    "name": "ipython",
    "version": 3
   },
   "file_extension": ".py",
   "mimetype": "text/x-python",
   "name": "python",
   "nbconvert_exporter": "python",
   "pygments_lexer": "ipython3",
   "version": "3.11.7"
  }
 },
 "nbformat": 4,
 "nbformat_minor": 5
}
