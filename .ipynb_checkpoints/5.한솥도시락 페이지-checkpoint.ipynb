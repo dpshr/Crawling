{
 "cells": [
  {
   "cell_type": "code",
   "execution_count": 1,
   "id": "3005c09e-4914-49bf-a146-a9fb3574c68b",
   "metadata": {},
   "outputs": [],
   "source": [
    "# 셀 합치기 : Edit Mode(코드입력 X) > Shift + M \n",
    "# 인접한 아래 설과 합쳐짐\n",
    "\n",
    "# 셀 나누기 : Command Mode(코드 입력O) > Shift + ctrl + '-'\n",
    "# 커서 기준으로 셀 나누기 \n",
    "\n",
    "# Edit > Command : Enter\n",
    "# Command > Edit : ESC"
   ]
  },
  {
   "cell_type": "code",
   "execution_count": 2,
   "id": "e1a537ce-687f-4142-a369-8161291f6fe0",
   "metadata": {},
   "outputs": [],
   "source": [
    "from selenium import webdriver as wb # 웹브라우저 통제\n",
    "from selenium.webdriver.common.keys import Keys # 입력용\n",
    "from selenium.webdriver.common.by import By # 구분자"
   ]
  },
  {
   "cell_type": "code",
   "execution_count": 3,
   "id": "18919108-7778-4395-86d8-70ddcbafcc43",
   "metadata": {},
   "outputs": [],
   "source": [
    "import time"
   ]
  },
  {
   "cell_type": "code",
   "execution_count": 4,
   "id": "fd721a5b-341d-46ef-971c-0768392b1539",
   "metadata": {},
   "outputs": [
    {
     "name": "stdout",
     "output_type": "stream",
     "text": [
      "더보기 클릭 끝\n"
     ]
    },
    {
     "data": {
      "text/plain": [
       "102"
      ]
     },
     "execution_count": 4,
     "metadata": {},
     "output_type": "execute_result"
    }
   ],
   "source": [
    "driver = wb.Chrome()\n",
    "driver.get('https://www.hsd.co.kr/menu/menu_list')\n",
    "time.sleep(1)\n",
    "more_btn = driver.find_element(By.CLASS_NAME,'c_05')\n",
    "more_btn\n",
    "\n",
    "# 1. 찾으면 실행시키기, 못찾으면 실행 안시키기\n",
    "# 2. 오류나면 그만하기 = 예외처리\n",
    "try:\n",
    "    while True:\n",
    "        # 페이지가 갱신되면 요소를 다시 찾아야함\n",
    "        more_btn.click()\n",
    "        #요청을 응답하는데 걸리는 시간동안 대기 \n",
    "        time.sleep(1)\n",
    "except:\n",
    "    print('더보기 클릭 끝')\n",
    "\n",
    "# 메뉴 h fz_03\n",
    "menus = driver.find_elements(By.CLASS_NAME,'h.fz_03')\n",
    "\n",
    "# 바로 검색하면 11개 메뉴 나옴\n",
    "# 더보기를 끝까지 누르고 검색하면 102개 나옴\n",
    "len(menus)\n",
    "\n",
    "# 나 진짜 잘못한거 없는거 같은데 왜 실행 안되지?\n",
    "# 드라이버로 접근한 창을 클릭하지말고 전부다 코드로만 실행해보자"
   ]
  },
  {
   "cell_type": "code",
   "execution_count": 5,
   "id": "d6751708-d9d1-4cb5-b966-384219ff0c04",
   "metadata": {},
   "outputs": [],
   "source": [
    "import pandas as pd"
   ]
  },
  {
   "cell_type": "code",
   "execution_count": 6,
   "id": "b2740a64-c9a8-4834-893c-31d260f0a156",
   "metadata": {},
   "outputs": [],
   "source": [
    "# 102개 메뉴의 가격 '숫자'만 가져오기\n",
    "# By.CSS_SELECTOR : 태그 , 선택자, ID, CLASS 를 사용 \n",
    "num = driver.find_elements(By.CSS_SELECTOR,'div.item-price>strong')"
   ]
  },
  {
   "cell_type": "code",
   "execution_count": 7,
   "id": "4b0819eb-e249-41d1-89a8-a4fedc977689",
   "metadata": {},
   "outputs": [],
   "source": [
    "menus_list = []\n",
    "num_list = []\n",
    "for menu in menus:\n",
    "    menus_list.append(menu.text)\n",
    "for i in num:\n",
    "    num_list.append(i.text)"
   ]
  },
  {
   "cell_type": "code",
   "execution_count": 8,
   "id": "0404604e-7540-4d25-a3c8-8a878d2f4c1d",
   "metadata": {},
   "outputs": [],
   "source": [
    "# csv 파일 만들기 \n",
    "# 1. 메뉴와 가격을 합친 딕셔너리 만들기\n",
    "data={'메뉴':menus_list , '가격': num_list}\n",
    "# 2. 딕셔너리를 통해서 DataFrame 만들기\n",
    "df = pd.DataFrame(data)\n",
    "df\n",
    "# 3. csv 파일로 내보내기 \n",
    "df.to_csv('한솥메뉴.csv', encoding = 'euc-kr')"
   ]
  },
  {
   "cell_type": "code",
   "execution_count": 9,
   "id": "58184edf-72c4-4f9e-9b72-df9b89befc33",
   "metadata": {},
   "outputs": [
    {
     "data": {
      "text/html": [
       "<div>\n",
       "<style scoped>\n",
       "    .dataframe tbody tr th:only-of-type {\n",
       "        vertical-align: middle;\n",
       "    }\n",
       "\n",
       "    .dataframe tbody tr th {\n",
       "        vertical-align: top;\n",
       "    }\n",
       "\n",
       "    .dataframe thead th {\n",
       "        text-align: right;\n",
       "    }\n",
       "</style>\n",
       "<table border=\"1\" class=\"dataframe\">\n",
       "  <thead>\n",
       "    <tr style=\"text-align: right;\">\n",
       "      <th></th>\n",
       "      <th>메뉴</th>\n",
       "      <th>가격</th>\n",
       "    </tr>\n",
       "  </thead>\n",
       "  <tbody>\n",
       "    <tr>\n",
       "      <th>0</th>\n",
       "      <td>숯불 직화 닭갈비(간장맛)</td>\n",
       "      <td>6,900</td>\n",
       "    </tr>\n",
       "    <tr>\n",
       "      <th>1</th>\n",
       "      <td>숯불 직화 닭갈비(고추장맛)</td>\n",
       "      <td>6,900</td>\n",
       "    </tr>\n",
       "    <tr>\n",
       "      <th>2</th>\n",
       "      <td>숯불 직화 닭갈비 덮밥(간장맛)</td>\n",
       "      <td>5,900</td>\n",
       "    </tr>\n",
       "    <tr>\n",
       "      <th>3</th>\n",
       "      <td>소확행 제육 도시락</td>\n",
       "      <td>2,900</td>\n",
       "    </tr>\n",
       "    <tr>\n",
       "      <th>4</th>\n",
       "      <td>소확행 스팸 도시락</td>\n",
       "      <td>2,900</td>\n",
       "    </tr>\n",
       "    <tr>\n",
       "      <th>...</th>\n",
       "      <td>...</td>\n",
       "      <td>...</td>\n",
       "    </tr>\n",
       "    <tr>\n",
       "      <th>97</th>\n",
       "      <td>김치</td>\n",
       "      <td>400</td>\n",
       "    </tr>\n",
       "    <tr>\n",
       "      <th>98</th>\n",
       "      <td>무말랭이 무침</td>\n",
       "      <td>500</td>\n",
       "    </tr>\n",
       "    <tr>\n",
       "      <th>99</th>\n",
       "      <td>한솥밥</td>\n",
       "      <td>1,000</td>\n",
       "    </tr>\n",
       "    <tr>\n",
       "      <th>100</th>\n",
       "      <td>현미밥</td>\n",
       "      <td>1,700</td>\n",
       "    </tr>\n",
       "    <tr>\n",
       "      <th>101</th>\n",
       "      <td>리얼꿀 미니호떡</td>\n",
       "      <td>2,200</td>\n",
       "    </tr>\n",
       "  </tbody>\n",
       "</table>\n",
       "<p>102 rows × 2 columns</p>\n",
       "</div>"
      ],
      "text/plain": [
       "                    메뉴     가격\n",
       "0       숯불 직화 닭갈비(간장맛)  6,900\n",
       "1      숯불 직화 닭갈비(고추장맛)  6,900\n",
       "2    숯불 직화 닭갈비 덮밥(간장맛)  5,900\n",
       "3           소확행 제육 도시락  2,900\n",
       "4           소확행 스팸 도시락  2,900\n",
       "..                 ...    ...\n",
       "97                  김치    400\n",
       "98             무말랭이 무침    500\n",
       "99                 한솥밥  1,000\n",
       "100                현미밥  1,700\n",
       "101           리얼꿀 미니호떡  2,200\n",
       "\n",
       "[102 rows x 2 columns]"
      ]
     },
     "execution_count": 9,
     "metadata": {},
     "output_type": "execute_result"
    }
   ],
   "source": [
    "df"
   ]
  }
 ],
 "metadata": {
  "kernelspec": {
   "display_name": "Python 3 (ipykernel)",
   "language": "python",
   "name": "python3"
  },
  "language_info": {
   "codemirror_mode": {
    "name": "ipython",
    "version": 3
   },
   "file_extension": ".py",
   "mimetype": "text/x-python",
   "name": "python",
   "nbconvert_exporter": "python",
   "pygments_lexer": "ipython3",
   "version": "3.11.7"
  }
 },
 "nbformat": 4,
 "nbformat_minor": 5
}
