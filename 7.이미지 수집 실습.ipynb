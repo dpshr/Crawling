{
 "cells": [
  {
   "cell_type": "code",
   "execution_count": 1,
   "id": "9e2a2a8b-f5da-4079-8d2b-c072768d0239",
   "metadata": {},
   "outputs": [],
   "source": [
    "from selenium import webdriver as wb\n",
    "from selenium.webdriver.common.keys import Keys\n",
    "from selenium.webdriver.common.by import By \n",
    "import time\n",
    "\n",
    "# 폴더 or 파일 관련 기능을 가진 라이브러리 ex) 폴더 or 파일생성/삭제/존재여부 \n",
    "import os \n",
    "# 이미지 경로를 요청해서 파일로 저장하는 라이브러리\n",
    "from urllib.request import urlretrieve"
   ]
  },
  {
   "cell_type": "code",
   "execution_count": 2,
   "id": "e7bbd93b-67f9-4331-9318-76b2ad9103e5",
   "metadata": {},
   "outputs": [
    {
     "name": "stdout",
     "output_type": "stream",
     "text": [
      "폴더있음\n"
     ]
    }
   ],
   "source": [
    "# 폴더 생성\n",
    "# 해당 폴더가 있는지 확인한 후 없다면 생성!\n",
    "if not os.path.isdir('C:\\\\Users\\\\smhrd1\\\\Desktop\\\\고양이'):\n",
    "    print('폴더생성')\n",
    "    # 폴더 생성하는 함수\n",
    "    os.mkdir('C:\\\\Users\\\\smhrd1\\\\Desktop\\\\고양이')\n",
    "else:\n",
    "    print('폴더있음')"
   ]
  },
  {
   "cell_type": "code",
   "execution_count": 3,
   "id": "648aac35-6358-4abc-b578-6e3c199c2710",
   "metadata": {},
   "outputs": [
    {
     "data": {
      "text/plain": [
       "('C:\\\\Users\\\\smhrd1\\\\Desktop\\\\고양이\\\\cat.jpg',\n",
       " <http.client.HTTPMessage at 0x1851cc9d690>)"
      ]
     },
     "execution_count": 3,
     "metadata": {},
     "output_type": "execute_result"
    }
   ],
   "source": [
    "img_src = 'https://search.pstatic.net/common/?src=http%3A%2F%2Fblogfiles.naver.net%2FMjAyNDAxMjNfMTU4%2FMDAxNzA2MDAwMTI5NjMz.b2o5FcgxazX-OgP5OsWM10cFBPWoKUJCh5_Fg3xmavAg.2HD7U37LX3aVatyfjT2e5VQuv7V2UZjrHcjvH17U8-gg.JPEG.sunnyymoon_%2FIMG_9138.jpg&type=a340'\n",
    "urlretrieve(img_src,'C:\\\\Users\\\\smhrd1\\\\Desktop\\\\고양이\\\\cat.jpg')"
   ]
  },
  {
   "cell_type": "markdown",
   "id": "cdb185ab-e9a8-44f6-b023-bb14d05d8f3a",
   "metadata": {},
   "source": [
    "### 네이버 이미지 수집\n",
    "1. 검색한 키워드에 맞는 'img'요소 수집하기\n",
    "2. 'img'요소의 src속성값을 추출하여 이미지주소 수집하기\n",
    "- .get_attribute(속성이름)활용\n",
    "3. urlretrieve 함수를 사용해서 수집한 이미지주소를 이미지로 저장하기 "
   ]
  },
  {
   "cell_type": "code",
   "execution_count": 4,
   "id": "ef71c726-f8d3-4d6a-a3a5-aec5c7c14ee1",
   "metadata": {},
   "outputs": [
    {
     "name": "stdout",
     "output_type": "stream",
     "text": [
      "폴더있음\n"
     ]
    }
   ],
   "source": [
    "if not os.path.isdir('C:\\\\Users\\\\smhrd1\\\\Desktop\\\\강아지'):\n",
    "    print('폴더생성')\n",
    "    # 폴더 생성하는 함수\n",
    "    os.mkdir('C:\\\\Users\\\\smhrd1\\\\Desktop\\\\강아지')\n",
    "else:\n",
    "    print('폴더있음')"
   ]
  },
  {
   "cell_type": "code",
   "execution_count": 15,
   "id": "4267dfd6-164d-4732-95e1-9fb7797c737f",
   "metadata": {},
   "outputs": [],
   "source": [
    "driver = wb.Chrome()\n",
    "url = 'https://search.naver.com/search.naver?sm=tab_hty.top&where=image&ssc=tab.image.all&query=%EA%B0%95%EC%95%84%EC%A7%80&oquery=%EA%B3%A0%EC%96%91%EC%9D%B4&tqi=iBEGVwqVOZCssjoiaBhssssssY8-520041'\n",
    "driver.get(url)"
   ]
  },
  {
   "cell_type": "code",
   "execution_count": 6,
   "id": "cdaa294b-08a4-40c1-8159-b8dd0760e28a",
   "metadata": {},
   "outputs": [
    {
     "data": {
      "text/plain": [
       "48"
      ]
     },
     "execution_count": 6,
     "metadata": {},
     "output_type": "execute_result"
    }
   ],
   "source": [
    "imgs = driver.find_elements(By.CLASS_NAME,'_fe_image_tab_content_thumbnail_image')\n",
    "len(imgs)"
   ]
  },
  {
   "cell_type": "code",
   "execution_count": 10,
   "id": "1b9901fa-26fb-4098-a4b0-6e3dbcf33528",
   "metadata": {},
   "outputs": [
    {
     "name": "stdout",
     "output_type": "stream",
     "text": [
      "True\n"
     ]
    }
   ],
   "source": [
    "msg = 'Hello World'\n",
    "print('Hello' in msg)"
   ]
  },
  {
   "cell_type": "code",
   "execution_count": 12,
   "id": "0f23d2cc-01ce-4625-aaab-4eb561cd7130",
   "metadata": {},
   "outputs": [],
   "source": [
    "imgs_list= []\n",
    "for img in imgs:\n",
    "    # 'https:'이 포함된 주소만 리스트에 저장\n",
    "    if 'https:' in img.get_attribute('src'):\n",
    "        imgs_list.append(img.get_attribute('src'))"
   ]
  },
  {
   "cell_type": "code",
   "execution_count": 13,
   "id": "f1afe5b6-6ec6-44ab-bb14-384a350b3dde",
   "metadata": {},
   "outputs": [
    {
     "data": {
      "text/plain": [
       "['https://search.pstatic.net/common/?src=http%3A%2F%2Fblogfiles.naver.net%2FMjAyMzEwMzBfNDcg%2FMDAxNjk4NjY4MjI5MDMy.HZOHvPO0aXAPI66e3IiEtGXo26lY0rjflxsfWo_-E1og.zJpwm-vjmp1ydbdSD7vlgDXJ3JBtwMwHBUWk_neD9sgg.PNG.cuttiechorong%2Fe3d19203-009d-4e3f-9845-d4e302f862b2.png&type=a340',\n",
       " 'https://search.pstatic.net/common/?src=http%3A%2F%2Fblogfiles.naver.net%2FMjAyMzExMjJfMTIz%2FMDAxNzAwNjQ1NjEyODYz.UNpCwp3eHEgLJLR2OqSVOBWZTullGUy9ERRzueNIJmwg.WBvzkfTIw-GM2I4XB46CleMZrVCDJW3r-u_VG-d4oT0g.PNG.cuttiechorong%2F4aaa3553-a696-4499-afae-e67a290bbded.png&type=a340',\n",
       " 'https://search.pstatic.net/common/?src=http%3A%2F%2Fblogfiles.naver.net%2FMjAyNDAyMjlfOTEg%2FMDAxNzA5MTQxOTM1MTI0.ZBVoMWA_wB9bwWiFnrFCzul9PanI9dtH7pr2571uIVIg.m_6o4dOWErhzMzSEEqkuftRmrnqciC3ESKJ3kvbbp2Eg.JPEG%2Fpexels-antoni-shkraba-7524674.jpg&type=a340',\n",
       " 'https://search.pstatic.net/common/?src=http%3A%2F%2Fblogfiles.naver.net%2FMjAyNDAzMjhfNzcg%2FMDAxNzExNTU4MjMwNDAz.TzSbZrLlf5s6imuDtd8U7h4-IDbNBgniklAnT7AJpMIg.QpK9dFxRzTtVASidL599k5jQK9dc7nwbQRE4owNK8z4g.JPEG%2F_b435a646-0838-473f-8a90-832bdc84ec6b.jpg&type=a340',\n",
       " 'https://search.pstatic.net/common/?src=http%3A%2F%2Fblogfiles.naver.net%2FMjAyNDA0MDFfMjY4%2FMDAxNzExOTQ3NTA2NTc5.rJRVj1z6nbBUeUfQMkMkpyJK6dzLr6wJkxmUPxCFnqUg.g3QWZMwnMCUCZ2KCyZ6PsPoBdAf5uaQqaykuEwpnJqkg.JPEG%2FKakaoTalk_20240401_135717386_06.jpg&type=a340',\n",
       " 'https://search.pstatic.net/sunny/?src=https%3A%2F%2Ffimg5.pann.com%2Fnew%2Fdownload.jsp%3FFileID%3D67480096&type=a340',\n",
       " 'https://search.pstatic.net/common/?src=http%3A%2F%2Fblogfiles.naver.net%2FMjAyNDAzMThfMjA1%2FMDAxNzEwNzcyMzUyNDE3.UyvHJNiaezubo_x6EarDlrrDRPrTDnTaTHM-TvDXOZ4g.J9aFKHg_g9DpK3-Ie_AbVmQVJmKzsg5BaykuZRkJHFsg.PNG%2F%25B0%25AD%25BE%25C6%25C1%25F6_%25BF%25A9%25B7%25AF%25B8%25B6%25B8%25AE_%25B2%25DE.png&type=a340',\n",
       " 'https://search.pstatic.net/common/?src=http%3A%2F%2Fblogfiles.naver.net%2FMjAyNDAzMDNfMTEz%2FMDAxNzA5NDY1NjQ3MjYy.Y7lI91KopzmYAY_3CI7nSn4DXqT7FJp_jx99GFUGvCgg.dtcpy0TXNl7613me71AXS1R0J3uMB4UuYvmNzBIcaW8g.JPEG%2Fgolden-retriever-7412806_640.jpg&type=a340',\n",
       " 'https://search.pstatic.net/common/?src=http%3A%2F%2Fblogfiles.naver.net%2FMjAyNDAzMjlfMjIz%2FMDAxNzExNjM4MTAzOTM0.VQbdfsfDMa7YEOkeAtvK8wwQ-N5e5qBct5zvjC0JbLYg.jAJquwry1zs12MWCA8h6NySJbNzR7E92cQe8qFjhe3Ag.JPEG%2F%25BA%25F1%25C5%25B8%25C6%25EA_%25B0%25AD%25BE%25C6%25C1%25F6_%25BE%25E7%25B9%25E8%25C3%25DF_14.jpg&type=a340',\n",
       " 'https://search.pstatic.net/common/?src=http%3A%2F%2Fblogfiles.naver.net%2FMjAyNDAyMjBfMTMg%2FMDAxNzA4NDA3ODM1MDMy.tOM33ChP7Y1LymSeOdVwd9oLtTa6DSmcBYlnSXrG1y4g.5Nhz-ANroGR5lf4Wd8M0yMf1AQWbE2qJMZNSbQ6ZzBsg.PNG%2F%25B0%25AD%25BE%25C6%25C1%25F6_%25B1%25B8%25C3%25EB%25C1%25A6%25B0%25C5_%25B9%25E6%25B9%25FD_%25B7%25B9%25B8%25F3%25C1%25F3.png&type=a340',\n",
       " 'https://search.pstatic.net/common/?src=http%3A%2F%2Fblogfiles.naver.net%2FMjAyNDAzMzBfNDAg%2FMDAxNzExNzQ5OTcwNzI5.LVGMs6WwMeLgj2SW5BZP1ojyS-rQnd10sCzfSPEWYQcg.xk1OqpCr6wt5bntFM42fdWtctrLN4kbi-amA1eMKUs4g.PNG%2F20240330_070512.png&type=a340',\n",
       " 'https://search.pstatic.net/common/?src=http%3A%2F%2Fblogfiles.naver.net%2FMjAyNDAyMTZfMjM5%2FMDAxNzA4MDkwOTUwNzg0.0JP6Xm31-24NerOoiGFIKOpUtWLIFTvr3pq1sRJKyHMg.X8mmYqHDptUB4KcqEk51sIzNAp8RFOuX7aU6axXjWF4g.JPEG.minjun90206%2F240_F_655695988_kIN3uZBmBpUDoTMii1fPerjTA5Qf6kzz.jpg&type=l340_165',\n",
       " 'https://search.pstatic.net/common/?src=http%3A%2F%2Fblogfiles.naver.net%2FMjAyNDAzMjhfMTY0%2FMDAxNzExNjIwNzcwOTk3.L1SiEUAc9hyQnHcuzMBs-tsSS0e-KBW2CzI2y8VCxQkg.Kw3bLz5rrRE_C53fMEehXwckJ_wofVhvA37GX5mXrAUg.JPEG%2F%25B1%25E2%25B0%25FC%25C1%25F6%25C7%25F9%25C2%25F8%25C1%25F5-001_%25281%2529.jpg&type=a340',\n",
       " 'https://search.pstatic.net/common/?src=http%3A%2F%2Fblogfiles.naver.net%2FMjAyNDA0MDNfMTEg%2FMDAxNzEyMTM0NjkzMzU0.MPV2S1QDCF3CZ56bBRzVnCTVxVoMoWJGpZMSv-b3RY4g.AwEV0gJFlZ_F7z0PGazY0xfMdSYzJpBEsFO5EpRJH94g.PNG%2F2.png&type=a340',\n",
       " 'https://search.pstatic.net/common/?src=http%3A%2F%2Fblogfiles.naver.net%2FMjAyNDA0MDVfOTIg%2FMDAxNzEyMzIwMDM0OTU0.rHmCvGm3UGx_O42SYSmfCCFTlnIgy9gFLWSidfcbY0Ag.nife1VKfuKagQTdmF10Dr8EduVKUml3mddiTRr3TRUUg.PNG%2Fimage.png&type=a340',\n",
       " 'https://search.pstatic.net/common/?src=http%3A%2F%2Fblogfiles.naver.net%2FMjAyNDA0MTRfMTA0%2FMDAxNzEzMDcxNDYwMDk3.fCHuBA9x6tpmIfMgVyFbg3y7CeZqPvNkopMQi2rH82gg.9Y1vMTSPi862gMF_7puzdiNBq2E1VTCjhUClL2PHFXcg.JPEG%2FKakaoTalk_20240409_192750237_09.jpg&type=a340',\n",
       " 'https://search.pstatic.net/common/?src=http%3A%2F%2Fblogfiles.naver.net%2FMjAyNDAxMTZfNDQg%2FMDAxNzA1Mzg2NzUyMDI2.HFQd4KM1WObzpF2oLpDw9Okxn3TO-ZE1wDhvySrnAo8g.oJftfrxi9yTY8zdT_2_XI_qlUUdMvECp9smHmyc5Yfcg.PNG.slflgahee%2F98d14de4-2b4e-4f50-8a2d-57a6a8c00ddf.png&type=a340',\n",
       " 'https://search.pstatic.net/common/?src=http%3A%2F%2Fblogfiles.naver.net%2FMjAyNDAzMjJfODEg%2FMDAxNzExMTE2ODg4Njkx.6kCrZr2Eby85CoUyqL9qV2nTBXrzc33cnsikopkPFOsg.Zs8w_aSIZ8pFpbuGrqG2mvLz6ZPTB3PHnaTX_W98Xkgg.PNG%2Fimage.png&type=a340',\n",
       " 'https://search.pstatic.net/common/?src=http%3A%2F%2Fblogfiles.naver.net%2FMjAyNDAzMjVfMTEw%2FMDAxNzExMzQzOTk0MTQ2.lWQcyvJmpUZErq_qcjUnai7mlte1g1Vt4byfIh5pWGAg.ObXZmziayrOmaYj-Qg7rdy1sKv0bmrlvPAGyKZLC4rkg.JPEG%2FKakaoTalk_20240325_141824406.jpg&type=a340',\n",
       " 'https://search.pstatic.net/common/?src=http%3A%2F%2Fblogfiles.naver.net%2FMjAyNDAyMjlfODgg%2FMDAxNzA5MTczMjkxNTY4.ZS3_zAi1D-ueoIEllgvqmjYK39MbJWA9diUym5EfJNMg.imAGUeIiVQJCbZKizjMPBNJ9H2vHOMPSneDgVQ1Ngekg.JPEG%2F16_%25283%2529.jpg&type=a340',\n",
       " 'https://search.pstatic.net/common/?src=http%3A%2F%2Fblogfiles.naver.net%2FMjAyNDAzMTFfNDAg%2FMDAxNzEwMTMyOTE0OTE3.c4JhiW1znxU04CIqGtMutDM9uBj242h3VrklQQVAfbIg.mUpxpl-UvYcEW07l5YXXI6Zey6da3qKEDQRCiRsn4owg.JPEG%2Fai-generated-8581993_1280.jpg&type=a340',\n",
       " 'https://search.pstatic.net/common/?src=http%3A%2F%2Fblogfiles.naver.net%2FMjAyMzExMjJfMjIg%2FMDAxNzAwNjM3MjQxNDk3.jmJL8_UcpvzALoGNthGjCpwYhb5h2LMBZsff74JLHWUg.7GsIuIMrXy-NgY-9IrtHUGMjvDBDebeL9gsue4eTKBkg.JPEG.appkorea90%2F%25B4%25EB%25C1%25F6_1_%25BA%25B9%25BB%25E7_4.jpg&type=a340']"
      ]
     },
     "execution_count": 13,
     "metadata": {},
     "output_type": "execute_result"
    }
   ],
   "source": [
    "imgs_list"
   ]
  },
  {
   "cell_type": "code",
   "execution_count": 14,
   "id": "e29b177b-7e12-4a24-81f6-deb120bc8038",
   "metadata": {},
   "outputs": [],
   "source": [
    "for i in range(len(imgs_list)):\n",
    "    urlretrieve(imgs_list[i],f'C:\\\\Users\\\\smhrd1\\\\Desktop\\\\강아지\\\\dog{i}.jpg')"
   ]
  },
  {
   "cell_type": "markdown",
   "id": "132d8a8b-da4d-409c-b030-a498b6e4c660",
   "metadata": {},
   "source": [
    "### 코드 통합"
   ]
  },
  {
   "cell_type": "code",
   "execution_count": 21,
   "id": "584249f5-e37e-417a-bbf0-de6a94360291",
   "metadata": {},
   "outputs": [
    {
     "name": "stdin",
     "output_type": "stream",
     "text": [
      "수집할 이미지 키워드를 넣어주세요: 떡볶이\n"
     ]
    },
    {
     "name": "stdout",
     "output_type": "stream",
     "text": [
      "폴더생성\n"
     ]
    }
   ],
   "source": [
    "keyword = input('수집할 이미지 키워드를 넣어주세요:')\n",
    "\n",
    "\n",
    "if not os.path.isdir(f'C:\\\\Users\\\\smhrd1\\\\Desktop\\\\{keyword}'):\n",
    "    print('폴더생성')\n",
    "    os.mkdir(f'C:\\\\Users\\\\smhrd1\\\\Desktop\\\\{keyword}')\n",
    "else:\n",
    "    print('폴더있음')\n",
    "    \n",
    "driver = wb.Chrome()\n",
    "url = f'https://search.naver.com/search.naver?sm=tab_hty.top&where=image&ssc=tab.image.all&query={keyword}'\n",
    "driver.get(url)\n",
    "\n",
    "time.sleep(2)\n",
    "\n",
    "# 페이지 스크롤 내리기 \n",
    "# 스크롤 관련 key: PAGE_DOWN , ARROW_DOWN, SPACE , END\n",
    "driver.find_element(By.TAG_NAME, 'body').send_keys(Keys.END)\n",
    "\n",
    "imgs = driver.find_elements(By.CLASS_NAME,'_fe_image_tab_content_thumbnail_image')\n",
    "\n",
    "imgs_list= []\n",
    "for img in imgs:\n",
    "    # 'https:'이 포함된 주소만 리스트에 저장\n",
    "    if 'https:' in img.get_attribute('src'):\n",
    "        imgs_list.append(img.get_attribute('src'))\n",
    "        \n",
    "for i in range(len(imgs_list)):\n",
    "    urlretrieve(imgs_list[i],f'C:\\\\Users\\\\smhrd1\\\\Desktop\\\\{keyword}\\\\{keyword}{i}.jpg')"
   ]
  }
 ],
 "metadata": {
  "kernelspec": {
   "display_name": "Python 3 (ipykernel)",
   "language": "python",
   "name": "python3"
  },
  "language_info": {
   "codemirror_mode": {
    "name": "ipython",
    "version": 3
   },
   "file_extension": ".py",
   "mimetype": "text/x-python",
   "name": "python",
   "nbconvert_exporter": "python",
   "pygments_lexer": "ipython3",
   "version": "3.11.7"
  }
 },
 "nbformat": 4,
 "nbformat_minor": 5
}
